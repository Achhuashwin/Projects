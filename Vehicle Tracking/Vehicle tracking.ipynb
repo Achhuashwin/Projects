{
 "cells": [
  {
   "cell_type": "code",
   "execution_count": 1,
   "id": "b5c57587",
   "metadata": {},
   "outputs": [],
   "source": [
    "import cv2\n",
    "import numpy as np\n",
    "from PIL import Image,ImageTk\n",
    "import imutils\n",
    "import io\n",
    "import mysql.connector as mc\n",
    "import datetime\n",
    "import easyocr\n",
    "from tkinter import *\n",
    "from tkinter import ttk"
   ]
  },
  {
   "cell_type": "code",
   "execution_count": 2,
   "id": "56a31613",
   "metadata": {},
   "outputs": [],
   "source": [
    "def crop_image():\n",
    "    img = cv2.imread(r'C:\\Users\\Adhavan.G\\OneDrive\\Desktop\\sem 3\\image4.jpg')\n",
    "    gray = cv2.cvtColor(img, cv2.COLOR_BGR2GRAY)\n",
    "    #plt.imshow(cv2.cvtColor(gray, cv2.COLOR_BGR2RGB))\n",
    "\n",
    "    bfilter = cv2.bilateralFilter(gray, 11, 17, 17)\n",
    "    edged = cv2.Canny(bfilter, 30, 200)\n",
    "    #plt.imshow(cv2.cvtColor(edged, cv2.COLOR_BGR2RGB))\n",
    "\n",
    "    keypoints = cv2.findContours(edged.copy(), cv2.RETR_TREE, cv2.CHAIN_APPROX_SIMPLE)\n",
    "    contours = imutils.grab_contours(keypoints)\n",
    "    contours = sorted(contours, key=cv2.contourArea, reverse=True)[:10]\n",
    "\n",
    "    location = None\n",
    "    for contour in contours:\n",
    "        approx = cv2.approxPolyDP(contour, 10, True)\n",
    "        if len(approx) == 4:\n",
    "            location = approx\n",
    "            break\n",
    "\n",
    "    mask = np.zeros(gray.shape, np.uint8)\n",
    "    new_image = cv2.drawContours(mask, [location], 0,255, -1)\n",
    "    new_image = cv2.bitwise_and(img, img, mask=mask)\n",
    "\n",
    "    (x,y) = np.where(mask==255)\n",
    "    (x1, y1) = (np.min(x), np.min(y))\n",
    "    (x2, y2) = (np.max(x), np.max(y))\n",
    "    cropped_image = gray[x1:x2+1, y1:y2+1]\n",
    "    reader = easyocr.Reader(['en'])\n",
    "    result = reader.readtext(cropped_image)\n",
    "    return result[0][1]"
   ]
  },
  {
   "cell_type": "code",
   "execution_count": 3,
   "id": "ede3445a",
   "metadata": {},
   "outputs": [],
   "source": [
    "def binary():\n",
    "    with open(r'C:\\Users\\Adhavan.G\\OneDrive\\Desktop\\sem 3\\image4.jpg','rb') as f:\n",
    "        res=f.read()\n",
    "    return res\n"
   ]
  },
  {
   "cell_type": "code",
   "execution_count": 4,
   "id": "7fab6222",
   "metadata": {},
   "outputs": [
    {
     "name": "stderr",
     "output_type": "stream",
     "text": [
      "CUDA not available - defaulting to CPU. Note: This module is much faster with a GPU.\n",
      "c:\\users\\adhavan.g\\appdata\\local\\programs\\python\\python38\\lib\\site-packages\\torch\\nn\\functional.py:718: UserWarning: Named tensors and all their associated APIs are an experimental feature and subject to change. Please do not use them for anything important until they are released as stable. (Triggered internally at  ..\\c10/core/TensorImpl.h:1156.)\n",
      "  return torch.max_pool2d(input, kernel_size, stride, padding, dilation, ceil_mode)\n"
     ]
    },
    {
     "name": "stdout",
     "output_type": "stream",
     "text": [
      "H982 FKL\n"
     ]
    }
   ],
   "source": [
    "date=datetime.date.today()\n",
    "now = datetime.datetime.now()\n",
    "time = now.strftime(\"%H:%M:%S\")\n",
    "text=crop_image()\n",
    "image=binary()\n",
    "print(text)"
   ]
  },
  {
   "cell_type": "code",
   "execution_count": 5,
   "id": "b310c1b1",
   "metadata": {},
   "outputs": [],
   "source": [
    "mydb=mc.connect(host='127.0.0.1',user='root',port=3306,password='adhav1405',database='vehicle')\n",
    "data=mydb.cursor()\n",
    "data.execute(\"insert into vehicle(DATE,TIME,TEXT,IMAGE) value(%s,%s,%s,%s)\",(date,time,text,image))"
   ]
  },
  {
   "cell_type": "code",
   "execution_count": 6,
   "id": "1d6d094d",
   "metadata": {},
   "outputs": [],
   "source": [
    "def get_value():\n",
    "    data.execute(\"select * from vehicle where {}=%s\".format(drop.get()),(entry1.get(),))\n",
    "    count=1\n",
    "    for i in data:\n",
    "        for j in range(3):\n",
    "            listbox.insert(END,i[j]+\"\\n\")\n",
    "        def convert_image(image):\n",
    "            with open(r\"D:\\INTERN\\python exercise\\vehicle track images\\image\"+str(count)+'.jpg','wb') as f:\n",
    "                f.write(i[3])\n",
    "            img1=Image.open(r\"D:\\INTERN\\python exercise\\vehicle track images\\image\"+str(count)+'.jpg')\n",
    "            m=img1.resize((300,205),Image.ANTIALIAS)\n",
    "            myimage=ImageTk.PhotoImage(m)\n",
    "            listbox.image_create(END,image=myimage)\n",
    "            listbox.insert(END,'\\n')\n",
    "        convert_image(i[3])\n",
    "        count+=1"
   ]
  },
  {
   "cell_type": "code",
   "execution_count": 7,
   "id": "306ec760",
   "metadata": {},
   "outputs": [
    {
     "name": "stderr",
     "output_type": "stream",
     "text": [
      "Exception in Tkinter callback\n",
      "Traceback (most recent call last):\n",
      "  File \"c:\\users\\adhavan.g\\appdata\\local\\programs\\python\\python38\\lib\\tkinter\\__init__.py\", line 1883, in __call__\n",
      "    return self.func(*args)\n",
      "  File \"C:\\Users\\Adhavan.G\\AppData\\Local\\Temp/ipykernel_13204/2774620668.py\", line 15, in get_value\n",
      "    convert_image(i[3])\n",
      "  File \"C:\\Users\\Adhavan.G\\AppData\\Local\\Temp/ipykernel_13204/2774620668.py\", line 10, in convert_image\n",
      "    img1=Image.open(r\"D:\\INTERN\\python exercise\\vehicle track images\\image\"+str(count)+'.jpg')\n",
      "AttributeError: type object 'Image' has no attribute 'open'\n"
     ]
    }
   ],
   "source": [
    "root=Tk()\n",
    "root.title(\"VEHICLE TRACKING\")\n",
    "root.geometry(\"1000x600\")\n",
    "drop=ttk.Combobox(root,value=['date','text','time'])\n",
    "drop.pack()\n",
    "\n",
    "entry1=Entry(root,width=30)\n",
    "entry1.pack()\n",
    "\n",
    "button2=Button(root,text='Get value',command=get_value)\n",
    "button2.pack()\n",
    "\n",
    "my_frame=Frame(root)\n",
    "scrollbar1=Scrollbar(my_frame,orient=VERTICAL)\n",
    "scrollbar2=Scrollbar(my_frame,orient=HORIZONTAL)\n",
    "listbox=Text(my_frame,width=200,height=40,yscrollcommand=scrollbar1.set)\n",
    "scrollbar1.config(command=listbox.yview)\n",
    "scrollbar1.pack(side='right',fill=Y)\n",
    "scrollbar2.config(command=listbox.xview)\n",
    "scrollbar2.pack(side='bottom',fill=X)\n",
    "listbox.pack(pady=15)\n",
    "my_frame.pack()\n",
    "\n",
    "root.mainloop()"
   ]
  },
  {
   "cell_type": "code",
   "execution_count": 9,
   "id": "f7100efa",
   "metadata": {},
   "outputs": [],
   "source": [
    "import os\n",
    "for file in os.listdir(r\"D:\\INTERN\\python exercise\\vehicle track images\"):\n",
    "    os.remove(r\"D:\\INTERN\\python exercise\\vehicle track images\"+'\\\\'+file)"
   ]
  }
 ],
 "metadata": {
  "kernelspec": {
   "display_name": "Python 3 (ipykernel)",
   "language": "python",
   "name": "python3"
  },
  "language_info": {
   "codemirror_mode": {
    "name": "ipython",
    "version": 3
   },
   "file_extension": ".py",
   "mimetype": "text/x-python",
   "name": "python",
   "nbconvert_exporter": "python",
   "pygments_lexer": "ipython3",
   "version": "3.8.6"
  }
 },
 "nbformat": 4,
 "nbformat_minor": 5
}
